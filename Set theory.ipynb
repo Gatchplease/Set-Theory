{
 "cells": [
  {
   "cell_type": "code",
   "execution_count": 47,
   "metadata": {},
   "outputs": [],
   "source": [
    "moba_sg1 = [\"Dota\",\"Arena Of Valor\",\"Mobile Legends\"]\n",
    "moba_sg2 = [\"Smite\",\"Dota\",\"Dota 2\",\"League Of Legends\"]\n",
    "\n",
    "shooter_games1 = [\"Call of Duty\",\"Special Force\",\"Valorant\"]\n",
    "shooter_games2 = [\"Apex Legends\",\"CS Go\",\"Left 4 dead\"]\n"
   ]
  },
  {
   "cell_type": "code",
   "execution_count": 48,
   "metadata": {},
   "outputs": [],
   "source": [
    "msg1 = set(moba_sg1)\n",
    "msg2 = set(moba_sg2)\n",
    "\n",
    "ssg1 = set(shooter_games1)\n",
    "ssg2 = set(shooter_games2)"
   ]
  },
  {
   "cell_type": "code",
   "execution_count": 55,
   "metadata": {},
   "outputs": [
    {
     "data": {
      "text/plain": [
       "{'Dota'}"
      ]
     },
     "execution_count": 55,
     "metadata": {},
     "output_type": "execute_result"
    }
   ],
   "source": [
    "common = msg1.intersection(msg2)\n",
    "common2 = ssg1.intersection(ssg2)\n",
    "\n",
    "common\n",
    "#common2"
   ]
  },
  {
   "cell_type": "code",
   "execution_count": 59,
   "metadata": {},
   "outputs": [
    {
     "data": {
      "text/plain": [
       "{'Dota', 'Dota 2', 'League Of Legends', 'Smite'}"
      ]
     },
     "execution_count": 59,
     "metadata": {},
     "output_type": "execute_result"
    }
   ],
   "source": [
    "msg1_ljoin = common.union(msg2)\n",
    "msg2_ljoin = common2.union(ssg2)\n",
    "\n",
    "msg1_ljoin\n",
    "#msg2_ljoin"
   ]
  },
  {
   "cell_type": "code",
   "execution_count": 61,
   "metadata": {},
   "outputs": [
    {
     "data": {
      "text/plain": [
       "{'Call of Duty', 'Dota', 'Special Force', 'Valorant'}"
      ]
     },
     "execution_count": 61,
     "metadata": {},
     "output_type": "execute_result"
    }
   ],
   "source": [
    "ssg2_rjoin = common.union(ssg1)\n",
    "msg1_rjoin = common2.union(ssg2)\n",
    "\n",
    "ssg2_rjoin\n",
    "#msg1_rjoin"
   ]
  },
  {
   "cell_type": "code",
   "execution_count": 65,
   "metadata": {},
   "outputs": [
    {
     "data": {
      "text/plain": [
       "{'Arena Of Valor', 'Mobile Legends'}"
      ]
     },
     "execution_count": 65,
     "metadata": {},
     "output_type": "execute_result"
    }
   ],
   "source": [
    "msg1_lexljoin = msg1.difference(msg2)\n",
    "ssg1_lexljoin = ssg1.difference(ssg2)\n",
    "\n",
    "msg1_lexljoin\n",
    "#ssg1_lexljoin"
   ]
  },
  {
   "cell_type": "code",
   "execution_count": 67,
   "metadata": {},
   "outputs": [
    {
     "data": {
      "text/plain": [
       "{'Dota 2', 'League Of Legends', 'Smite'}"
      ]
     },
     "execution_count": 67,
     "metadata": {},
     "output_type": "execute_result"
    }
   ],
   "source": [
    "msg2_rexljoin = msg2.difference(msg1)\n",
    "ssg2_rexljoin = ssg2.difference(ssg1)\n",
    "\n",
    "msg2_rexljoin\n",
    "#ssg2_rexljoin"
   ]
  },
  {
   "cell_type": "code",
   "execution_count": 71,
   "metadata": {},
   "outputs": [
    {
     "data": {
      "text/plain": [
       "{'Apex Legends',\n",
       " 'Arena Of Valor',\n",
       " 'CS Go',\n",
       " 'Call of Duty',\n",
       " 'Dota',\n",
       " 'Dota 2',\n",
       " 'League Of Legends',\n",
       " 'Left 4 dead',\n",
       " 'Mobile Legends',\n",
       " 'Smite',\n",
       " 'Special Force',\n",
       " 'Valorant'}"
      ]
     },
     "execution_count": 71,
     "metadata": {},
     "output_type": "execute_result"
    }
   ],
   "source": [
    "# f_outer0 =msg1.union(msg2)\n",
    "# f_outer1 =ssg1.union(ssg2)\n",
    "# f_outer0\n",
    "# f_outer1\n",
    "\n",
    "allsets = msg1.union(msg2,ssg1,ssg2)\n",
    "allsets"
   ]
  },
  {
   "cell_type": "code",
   "execution_count": 72,
   "metadata": {},
   "outputs": [
    {
     "data": {
      "text/plain": [
       "{'Arena Of Valor', 'Dota 2', 'League Of Legends', 'Mobile Legends', 'Smite'}"
      ]
     },
     "execution_count": 72,
     "metadata": {},
     "output_type": "execute_result"
    }
   ],
   "source": [
    "f_xouter0 = (msg1.difference(msg2)).union(msg2.difference(msg1))\n",
    "f_xouter1 = (ssg1.difference(ssg2)).union(ssg2.difference(ssg1))\n",
    "\n",
    "f_xouter0\n",
    "#f_xouter1"
   ]
  },
  {
   "cell_type": "code",
   "execution_count": null,
   "metadata": {},
   "outputs": [],
   "source": []
  }
 ],
 "metadata": {
  "kernelspec": {
   "display_name": "Python 3",
   "language": "python",
   "name": "python3"
  },
  "language_info": {
   "codemirror_mode": {
    "name": "ipython",
    "version": 3
   },
   "file_extension": ".py",
   "mimetype": "text/x-python",
   "name": "python",
   "nbconvert_exporter": "python",
   "pygments_lexer": "ipython3",
   "version": "3.8.3"
  }
 },
 "nbformat": 4,
 "nbformat_minor": 4
}
